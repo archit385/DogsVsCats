{
 "cells": [
  {
   "cell_type": "code",
   "execution_count": 5,
   "id": "786104d2",
   "metadata": {},
   "outputs": [],
   "source": [
    "# Run this first to load the pretrained model\n",
    "import keras\n",
    "my_model = keras.models.load_model('E:\\my_model.h5')     #filepath where the model is saved"
   ]
  },
  {
   "cell_type": "code",
   "execution_count": 6,
   "id": "e0ba6683",
   "metadata": {},
   "outputs": [
    {
     "name": "stdout",
     "output_type": "stream",
     "text": [
      "The image has a Dog\n"
     ]
    }
   ],
   "source": [
    "# Now just change the filepath here to use the model\n",
    "\n",
    "import numpy as np\n",
    "import tensorflow\n",
    "image = tensorflow.keras.preprocessing.image.load_img(r\"E:\\dog1.jfif\",target_size = (128, 128)) #filepath of image to be predicted\n",
    "input_arr = tensorflow.keras.preprocessing.image.img_to_array(image)\n",
    "input_arr = np.array([input_arr])  # Convert single image to a batch.\n",
    "predictions = my_model.predict(input_arr)\n",
    "categories = ['Cat', 'Dog']\n",
    "print('The image has a ' + categories[np.argmax(predictions)])"
   ]
  }
 ],
 "metadata": {
  "kernelspec": {
   "display_name": "Python 3",
   "language": "python",
   "name": "python3"
  },
  "language_info": {
   "codemirror_mode": {
    "name": "ipython",
    "version": 3
   },
   "file_extension": ".py",
   "mimetype": "text/x-python",
   "name": "python",
   "nbconvert_exporter": "python",
   "pygments_lexer": "ipython3",
   "version": "3.8.10"
  }
 },
 "nbformat": 4,
 "nbformat_minor": 5
}
